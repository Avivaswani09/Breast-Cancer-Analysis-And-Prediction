{
 "cells": [
  {
   "cell_type": "code",
   "execution_count": 2,
   "metadata": {},
   "outputs": [],
   "source": [
    "import cv2\n",
    "import numpy as np\n",
    "\n",
    "def apply_gaussian_blur(image_path, output_path, kernel_size=(5, 5), sigma=0):\n",
    "    # Read the image\n",
    "    img = cv2.imread(image_path)\n",
    "\n",
    "    # Apply Gaussian blur\n",
    "    blurred_img = cv2.GaussianBlur(img, kernel_size, sigma)\n",
    "\n",
    "    # Save the output image\n",
    "    cv2.imwrite(output_path, blurred_img)\n",
    "\n",
    "# Example usage\n",
    "input_image_path = 'input_image.jpg'\n",
    "output_image_path = 'output_image_blurred.jpg'\n",
    "apply_gaussian_blur(input_image_path, output_image_path)\n"
   ]
  }
 ],
 "metadata": {
  "kernelspec": {
   "display_name": "Python 3",
   "language": "python",
   "name": "python3"
  },
  "language_info": {
   "codemirror_mode": {
    "name": "ipython",
    "version": 3
   },
   "file_extension": ".py",
   "mimetype": "text/x-python",
   "name": "python",
   "nbconvert_exporter": "python",
   "pygments_lexer": "ipython3",
   "version": "3.11.4"
  }
 },
 "nbformat": 4,
 "nbformat_minor": 2
}
